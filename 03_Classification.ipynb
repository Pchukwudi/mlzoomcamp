{
 "cells": [
  {
   "cell_type": "markdown",
   "metadata": {},
   "source": [
    "In this homework, I will use the California Housing Prices data.\n",
    "I'll work with the _'median_house_value'_ variable, and transform it to a classification task."
   ]
  },
  {
   "cell_type": "code",
   "execution_count": 110,
   "metadata": {},
   "outputs": [],
   "source": [
    "#import libraries\n",
    "import numpy as np\n",
    "import pandas as pd\n",
    "\n",
    "from sklearn.feature_extraction import DictVectorizer\n",
    "\n",
    "from sklearn.linear_model import LogisticRegression, Ridge\n",
    "from sklearn.metrics import accuracy_score, mean_squared_error, mutual_info_score\n",
    "from sklearn.model_selection import train_test_split\n",
    "\n",
    "#set a random seed for reproducibility\n",
    "np.random.seed(42)\n",
    "\n",
    "%matplotlib inline"
   ]
  },
  {
   "cell_type": "code",
   "execution_count": 111,
   "metadata": {},
   "outputs": [
    {
     "data": {
      "text/html": [
       "<div>\n",
       "<style scoped>\n",
       "    .dataframe tbody tr th:only-of-type {\n",
       "        vertical-align: middle;\n",
       "    }\n",
       "\n",
       "    .dataframe tbody tr th {\n",
       "        vertical-align: top;\n",
       "    }\n",
       "\n",
       "    .dataframe thead th {\n",
       "        text-align: right;\n",
       "    }\n",
       "</style>\n",
       "<table border=\"1\" class=\"dataframe\">\n",
       "  <thead>\n",
       "    <tr style=\"text-align: right;\">\n",
       "      <th></th>\n",
       "      <th>longitude</th>\n",
       "      <th>latitude</th>\n",
       "      <th>housing_median_age</th>\n",
       "      <th>total_rooms</th>\n",
       "      <th>total_bedrooms</th>\n",
       "      <th>population</th>\n",
       "      <th>households</th>\n",
       "      <th>median_income</th>\n",
       "      <th>median_house_value</th>\n",
       "      <th>ocean_proximity</th>\n",
       "    </tr>\n",
       "  </thead>\n",
       "  <tbody>\n",
       "    <tr>\n",
       "      <th>0</th>\n",
       "      <td>-122.23</td>\n",
       "      <td>37.88</td>\n",
       "      <td>41.0</td>\n",
       "      <td>880.0</td>\n",
       "      <td>129.0</td>\n",
       "      <td>322.0</td>\n",
       "      <td>126.0</td>\n",
       "      <td>8.3252</td>\n",
       "      <td>452600.0</td>\n",
       "      <td>NEAR BAY</td>\n",
       "    </tr>\n",
       "    <tr>\n",
       "      <th>1</th>\n",
       "      <td>-122.22</td>\n",
       "      <td>37.86</td>\n",
       "      <td>21.0</td>\n",
       "      <td>7099.0</td>\n",
       "      <td>1106.0</td>\n",
       "      <td>2401.0</td>\n",
       "      <td>1138.0</td>\n",
       "      <td>8.3014</td>\n",
       "      <td>358500.0</td>\n",
       "      <td>NEAR BAY</td>\n",
       "    </tr>\n",
       "    <tr>\n",
       "      <th>2</th>\n",
       "      <td>-122.24</td>\n",
       "      <td>37.85</td>\n",
       "      <td>52.0</td>\n",
       "      <td>1467.0</td>\n",
       "      <td>190.0</td>\n",
       "      <td>496.0</td>\n",
       "      <td>177.0</td>\n",
       "      <td>7.2574</td>\n",
       "      <td>352100.0</td>\n",
       "      <td>NEAR BAY</td>\n",
       "    </tr>\n",
       "    <tr>\n",
       "      <th>3</th>\n",
       "      <td>-122.25</td>\n",
       "      <td>37.85</td>\n",
       "      <td>52.0</td>\n",
       "      <td>1274.0</td>\n",
       "      <td>235.0</td>\n",
       "      <td>558.0</td>\n",
       "      <td>219.0</td>\n",
       "      <td>5.6431</td>\n",
       "      <td>341300.0</td>\n",
       "      <td>NEAR BAY</td>\n",
       "    </tr>\n",
       "    <tr>\n",
       "      <th>4</th>\n",
       "      <td>-122.25</td>\n",
       "      <td>37.85</td>\n",
       "      <td>52.0</td>\n",
       "      <td>1627.0</td>\n",
       "      <td>280.0</td>\n",
       "      <td>565.0</td>\n",
       "      <td>259.0</td>\n",
       "      <td>3.8462</td>\n",
       "      <td>342200.0</td>\n",
       "      <td>NEAR BAY</td>\n",
       "    </tr>\n",
       "  </tbody>\n",
       "</table>\n",
       "</div>"
      ],
      "text/plain": [
       "   longitude  latitude  housing_median_age  total_rooms  total_bedrooms  \\\n",
       "0    -122.23     37.88                41.0        880.0           129.0   \n",
       "1    -122.22     37.86                21.0       7099.0          1106.0   \n",
       "2    -122.24     37.85                52.0       1467.0           190.0   \n",
       "3    -122.25     37.85                52.0       1274.0           235.0   \n",
       "4    -122.25     37.85                52.0       1627.0           280.0   \n",
       "\n",
       "   population  households  median_income  median_house_value ocean_proximity  \n",
       "0       322.0       126.0         8.3252            452600.0        NEAR BAY  \n",
       "1      2401.0      1138.0         8.3014            358500.0        NEAR BAY  \n",
       "2       496.0       177.0         7.2574            352100.0        NEAR BAY  \n",
       "3       558.0       219.0         5.6431            341300.0        NEAR BAY  \n",
       "4       565.0       259.0         3.8462            342200.0        NEAR BAY  "
      ]
     },
     "execution_count": 111,
     "metadata": {},
     "output_type": "execute_result"
    }
   ],
   "source": [
    "#laod the dataset\n",
    "df_housing = pd.read_csv('housing.csv')\n",
    "df_housing.head()"
   ]
  },
  {
   "cell_type": "code",
   "execution_count": 112,
   "metadata": {},
   "outputs": [
    {
     "data": {
      "text/plain": [
       "longitude               0\n",
       "latitude                0\n",
       "housing_median_age      0\n",
       "total_rooms             0\n",
       "total_bedrooms        207\n",
       "population              0\n",
       "households              0\n",
       "median_income           0\n",
       "median_house_value      0\n",
       "ocean_proximity         0\n",
       "dtype: int64"
      ]
     },
     "execution_count": 112,
     "metadata": {},
     "output_type": "execute_result"
    }
   ],
   "source": [
    "#check for missing values\n",
    "df_housing.isnull().sum()"
   ]
  },
  {
   "cell_type": "markdown",
   "metadata": {},
   "source": [
    "__Data Preparation__\n",
    "\n",
    ">* Fill in the missing values with 0.\n",
    ">* Create a new column *rooms_per_household* by dividing the *column total_rooms* by the column *households* from dataframe.\n",
    ">* Create a new column *bedrooms_per_room* by dividing the column *total_bedrooms* by the column *total_rooms* from dataframe.\n",
    ">* Create a new column *population_per_household* by dividing the column *population* by the column *households* from dataframe."
   ]
  },
  {
   "cell_type": "code",
   "execution_count": 113,
   "metadata": {},
   "outputs": [
    {
     "data": {
      "text/html": [
       "<div>\n",
       "<style scoped>\n",
       "    .dataframe tbody tr th:only-of-type {\n",
       "        vertical-align: middle;\n",
       "    }\n",
       "\n",
       "    .dataframe tbody tr th {\n",
       "        vertical-align: top;\n",
       "    }\n",
       "\n",
       "    .dataframe thead th {\n",
       "        text-align: right;\n",
       "    }\n",
       "</style>\n",
       "<table border=\"1\" class=\"dataframe\">\n",
       "  <thead>\n",
       "    <tr style=\"text-align: right;\">\n",
       "      <th></th>\n",
       "      <th>longitude</th>\n",
       "      <th>latitude</th>\n",
       "      <th>housing_median_age</th>\n",
       "      <th>total_rooms</th>\n",
       "      <th>total_bedrooms</th>\n",
       "      <th>population</th>\n",
       "      <th>households</th>\n",
       "      <th>median_income</th>\n",
       "      <th>median_house_value</th>\n",
       "      <th>ocean_proximity</th>\n",
       "      <th>rooms_per_household</th>\n",
       "      <th>bedrooms_per_room</th>\n",
       "      <th>population_per_household</th>\n",
       "    </tr>\n",
       "  </thead>\n",
       "  <tbody>\n",
       "    <tr>\n",
       "      <th>0</th>\n",
       "      <td>-122.23</td>\n",
       "      <td>37.88</td>\n",
       "      <td>41.0</td>\n",
       "      <td>880.0</td>\n",
       "      <td>129.0</td>\n",
       "      <td>322.0</td>\n",
       "      <td>126.0</td>\n",
       "      <td>8.3252</td>\n",
       "      <td>452600.0</td>\n",
       "      <td>NEAR BAY</td>\n",
       "      <td>6.984127</td>\n",
       "      <td>0.146591</td>\n",
       "      <td>2.555556</td>\n",
       "    </tr>\n",
       "    <tr>\n",
       "      <th>1</th>\n",
       "      <td>-122.22</td>\n",
       "      <td>37.86</td>\n",
       "      <td>21.0</td>\n",
       "      <td>7099.0</td>\n",
       "      <td>1106.0</td>\n",
       "      <td>2401.0</td>\n",
       "      <td>1138.0</td>\n",
       "      <td>8.3014</td>\n",
       "      <td>358500.0</td>\n",
       "      <td>NEAR BAY</td>\n",
       "      <td>6.238137</td>\n",
       "      <td>0.155797</td>\n",
       "      <td>2.109842</td>\n",
       "    </tr>\n",
       "    <tr>\n",
       "      <th>2</th>\n",
       "      <td>-122.24</td>\n",
       "      <td>37.85</td>\n",
       "      <td>52.0</td>\n",
       "      <td>1467.0</td>\n",
       "      <td>190.0</td>\n",
       "      <td>496.0</td>\n",
       "      <td>177.0</td>\n",
       "      <td>7.2574</td>\n",
       "      <td>352100.0</td>\n",
       "      <td>NEAR BAY</td>\n",
       "      <td>8.288136</td>\n",
       "      <td>0.129516</td>\n",
       "      <td>2.802260</td>\n",
       "    </tr>\n",
       "    <tr>\n",
       "      <th>3</th>\n",
       "      <td>-122.25</td>\n",
       "      <td>37.85</td>\n",
       "      <td>52.0</td>\n",
       "      <td>1274.0</td>\n",
       "      <td>235.0</td>\n",
       "      <td>558.0</td>\n",
       "      <td>219.0</td>\n",
       "      <td>5.6431</td>\n",
       "      <td>341300.0</td>\n",
       "      <td>NEAR BAY</td>\n",
       "      <td>5.817352</td>\n",
       "      <td>0.184458</td>\n",
       "      <td>2.547945</td>\n",
       "    </tr>\n",
       "    <tr>\n",
       "      <th>4</th>\n",
       "      <td>-122.25</td>\n",
       "      <td>37.85</td>\n",
       "      <td>52.0</td>\n",
       "      <td>1627.0</td>\n",
       "      <td>280.0</td>\n",
       "      <td>565.0</td>\n",
       "      <td>259.0</td>\n",
       "      <td>3.8462</td>\n",
       "      <td>342200.0</td>\n",
       "      <td>NEAR BAY</td>\n",
       "      <td>6.281853</td>\n",
       "      <td>0.172096</td>\n",
       "      <td>2.181467</td>\n",
       "    </tr>\n",
       "  </tbody>\n",
       "</table>\n",
       "</div>"
      ],
      "text/plain": [
       "   longitude  latitude  housing_median_age  total_rooms  total_bedrooms  \\\n",
       "0    -122.23     37.88                41.0        880.0           129.0   \n",
       "1    -122.22     37.86                21.0       7099.0          1106.0   \n",
       "2    -122.24     37.85                52.0       1467.0           190.0   \n",
       "3    -122.25     37.85                52.0       1274.0           235.0   \n",
       "4    -122.25     37.85                52.0       1627.0           280.0   \n",
       "\n",
       "   population  households  median_income  median_house_value ocean_proximity  \\\n",
       "0       322.0       126.0         8.3252            452600.0        NEAR BAY   \n",
       "1      2401.0      1138.0         8.3014            358500.0        NEAR BAY   \n",
       "2       496.0       177.0         7.2574            352100.0        NEAR BAY   \n",
       "3       558.0       219.0         5.6431            341300.0        NEAR BAY   \n",
       "4       565.0       259.0         3.8462            342200.0        NEAR BAY   \n",
       "\n",
       "   rooms_per_household  bedrooms_per_room  population_per_household  \n",
       "0             6.984127           0.146591                  2.555556  \n",
       "1             6.238137           0.155797                  2.109842  \n",
       "2             8.288136           0.129516                  2.802260  \n",
       "3             5.817352           0.184458                  2.547945  \n",
       "4             6.281853           0.172096                  2.181467  "
      ]
     },
     "execution_count": 113,
     "metadata": {},
     "output_type": "execute_result"
    }
   ],
   "source": [
    "df_housing = df_housing.fillna(0)\n",
    "df_housing['rooms_per_household'] = df_housing['total_rooms'] / df_housing['households']\n",
    "df_housing['bedrooms_per_room'] = df_housing['total_bedrooms'] / df_housing['total_rooms']\n",
    "df_housing['population_per_household'] = df_housing['population'] / df_housing['households']\n",
    "df_housing.head()"
   ]
  },
  {
   "cell_type": "markdown",
   "metadata": {},
   "source": [
    "__Question 1:__\n",
    "What is the most frequent observation (mode) for the column ocean_proximity?"
   ]
  },
  {
   "cell_type": "code",
   "execution_count": 114,
   "metadata": {},
   "outputs": [
    {
     "data": {
      "text/plain": [
       "0    <1H OCEAN\n",
       "Name: ocean_proximity, dtype: object"
      ]
     },
     "execution_count": 114,
     "metadata": {},
     "output_type": "execute_result"
    }
   ],
   "source": [
    "#check for the most frequent observation on ocean_proximity column\n",
    "df_housing.ocean_proximity.mode()"
   ]
  },
  {
   "cell_type": "markdown",
   "metadata": {},
   "source": [
    "__Split the data__\n",
    ">* Split the data in train/val/test sets, with 60%/20%/20% distribution.\n",
    ">* Use Scikit-Learn for that (the train_test_split function) and set the seed to 42.\n",
    ">* Make sure that the target value (median_house_value) is not in your dataframe."
   ]
  },
  {
   "cell_type": "code",
   "execution_count": 115,
   "metadata": {},
   "outputs": [],
   "source": [
    "#split the data into 80/20 train_test_set/validation set\n",
    "train_test_set, val_set = train_test_split(df_housing, test_size = 0.2)"
   ]
  },
  {
   "cell_type": "code",
   "execution_count": 116,
   "metadata": {},
   "outputs": [],
   "source": [
    "#perform another split, 60/20 train_set/test_set\n",
    "train_set, test_set = train_test_split(train_test_set, test_size = 0.25)"
   ]
  },
  {
   "cell_type": "code",
   "execution_count": 117,
   "metadata": {},
   "outputs": [
    {
     "data": {
      "text/plain": [
       "(12384, 4128, 4128)"
      ]
     },
     "execution_count": 117,
     "metadata": {},
     "output_type": "execute_result"
    }
   ],
   "source": [
    "#check the size of the dataset\n",
    "len(train_set), len(test_set), len(val_set)"
   ]
  },
  {
   "cell_type": "code",
   "execution_count": 118,
   "metadata": {},
   "outputs": [],
   "source": [
    "#reset the index\n",
    "train_set = train_set.reset_index(drop = True)\n",
    "val_set = val_set.reset_index(drop = True)\n",
    "test_set = test_set.reset_index(drop = True)"
   ]
  },
  {
   "cell_type": "code",
   "execution_count": 119,
   "metadata": {},
   "outputs": [],
   "source": [
    "#select the target variable for the three datasets\n",
    "y_train = train_set.median_house_value\n",
    "y_test = test_set.median_house_value\n",
    "y_val = val_set.median_house_value"
   ]
  },
  {
   "cell_type": "code",
   "execution_count": 120,
   "metadata": {},
   "outputs": [],
   "source": [
    "#drop the target variable from the datasets\n",
    "X_train = train_set.drop('median_house_value', axis = 1)\n",
    "X_test = test_set.drop('median_house_value', axis = 1)\n",
    "X_val = val_set.drop('median_house_value', axis = 1)"
   ]
  },
  {
   "cell_type": "markdown",
   "metadata": {},
   "source": [
    "__Question 2:__\n",
    ">* Create the correlation matrix for the numerical features of your train dataset.\n",
    ">* What are the two features that have the biggest correlation in this dataset?"
   ]
  },
  {
   "cell_type": "code",
   "execution_count": 121,
   "metadata": {},
   "outputs": [
    {
     "data": {
      "text/html": [
       "<div>\n",
       "<style scoped>\n",
       "    .dataframe tbody tr th:only-of-type {\n",
       "        vertical-align: middle;\n",
       "    }\n",
       "\n",
       "    .dataframe tbody tr th {\n",
       "        vertical-align: top;\n",
       "    }\n",
       "\n",
       "    .dataframe thead th {\n",
       "        text-align: right;\n",
       "    }\n",
       "</style>\n",
       "<table border=\"1\" class=\"dataframe\">\n",
       "  <thead>\n",
       "    <tr style=\"text-align: right;\">\n",
       "      <th></th>\n",
       "      <th>longitude</th>\n",
       "      <th>latitude</th>\n",
       "      <th>housing_median_age</th>\n",
       "      <th>total_rooms</th>\n",
       "      <th>total_bedrooms</th>\n",
       "      <th>population</th>\n",
       "      <th>households</th>\n",
       "      <th>median_income</th>\n",
       "      <th>rooms_per_household</th>\n",
       "      <th>bedrooms_per_room</th>\n",
       "      <th>population_per_household</th>\n",
       "    </tr>\n",
       "  </thead>\n",
       "  <tbody>\n",
       "    <tr>\n",
       "      <th>longitude</th>\n",
       "      <td>1.000000</td>\n",
       "      <td>-0.925565</td>\n",
       "      <td>-0.092360</td>\n",
       "      <td>0.037764</td>\n",
       "      <td>0.062496</td>\n",
       "      <td>0.092848</td>\n",
       "      <td>0.048963</td>\n",
       "      <td>-0.015035</td>\n",
       "      <td>-0.029271</td>\n",
       "      <td>0.096569</td>\n",
       "      <td>-0.003715</td>\n",
       "    </tr>\n",
       "    <tr>\n",
       "      <th>latitude</th>\n",
       "      <td>-0.925565</td>\n",
       "      <td>1.000000</td>\n",
       "      <td>-0.001490</td>\n",
       "      <td>-0.031198</td>\n",
       "      <td>-0.063200</td>\n",
       "      <td>-0.103765</td>\n",
       "      <td>-0.067358</td>\n",
       "      <td>-0.076069</td>\n",
       "      <td>0.113063</td>\n",
       "      <td>-0.120240</td>\n",
       "      <td>0.009735</td>\n",
       "    </tr>\n",
       "    <tr>\n",
       "      <th>housing_median_age</th>\n",
       "      <td>-0.092360</td>\n",
       "      <td>-0.001490</td>\n",
       "      <td>1.000000</td>\n",
       "      <td>-0.361997</td>\n",
       "      <td>-0.320940</td>\n",
       "      <td>-0.289843</td>\n",
       "      <td>-0.303136</td>\n",
       "      <td>-0.118928</td>\n",
       "      <td>-0.154011</td>\n",
       "      <td>0.132410</td>\n",
       "      <td>0.018602</td>\n",
       "    </tr>\n",
       "    <tr>\n",
       "      <th>total_rooms</th>\n",
       "      <td>0.037764</td>\n",
       "      <td>-0.031198</td>\n",
       "      <td>-0.361997</td>\n",
       "      <td>1.000000</td>\n",
       "      <td>0.928460</td>\n",
       "      <td>0.854559</td>\n",
       "      <td>0.920656</td>\n",
       "      <td>0.195391</td>\n",
       "      <td>0.120559</td>\n",
       "      <td>-0.184905</td>\n",
       "      <td>-0.026355</td>\n",
       "    </tr>\n",
       "    <tr>\n",
       "      <th>total_bedrooms</th>\n",
       "      <td>0.062496</td>\n",
       "      <td>-0.063200</td>\n",
       "      <td>-0.320940</td>\n",
       "      <td>0.928460</td>\n",
       "      <td>1.000000</td>\n",
       "      <td>0.873352</td>\n",
       "      <td>0.980713</td>\n",
       "      <td>-0.013463</td>\n",
       "      <td>-0.011416</td>\n",
       "      <td>0.091632</td>\n",
       "      <td>-0.029680</td>\n",
       "    </tr>\n",
       "    <tr>\n",
       "      <th>population</th>\n",
       "      <td>0.092848</td>\n",
       "      <td>-0.103765</td>\n",
       "      <td>-0.289843</td>\n",
       "      <td>0.854559</td>\n",
       "      <td>0.873352</td>\n",
       "      <td>1.000000</td>\n",
       "      <td>0.902034</td>\n",
       "      <td>0.002885</td>\n",
       "      <td>-0.076279</td>\n",
       "      <td>0.037859</td>\n",
       "      <td>0.078892</td>\n",
       "    </tr>\n",
       "    <tr>\n",
       "      <th>households</th>\n",
       "      <td>0.048963</td>\n",
       "      <td>-0.067358</td>\n",
       "      <td>-0.303136</td>\n",
       "      <td>0.920656</td>\n",
       "      <td>0.980713</td>\n",
       "      <td>0.902034</td>\n",
       "      <td>1.000000</td>\n",
       "      <td>0.009821</td>\n",
       "      <td>-0.087578</td>\n",
       "      <td>0.070056</td>\n",
       "      <td>-0.028938</td>\n",
       "    </tr>\n",
       "    <tr>\n",
       "      <th>median_income</th>\n",
       "      <td>-0.015035</td>\n",
       "      <td>-0.076069</td>\n",
       "      <td>-0.118928</td>\n",
       "      <td>0.195391</td>\n",
       "      <td>-0.013463</td>\n",
       "      <td>0.002885</td>\n",
       "      <td>0.009821</td>\n",
       "      <td>1.000000</td>\n",
       "      <td>0.314908</td>\n",
       "      <td>-0.613780</td>\n",
       "      <td>0.027256</td>\n",
       "    </tr>\n",
       "    <tr>\n",
       "      <th>rooms_per_household</th>\n",
       "      <td>-0.029271</td>\n",
       "      <td>0.113063</td>\n",
       "      <td>-0.154011</td>\n",
       "      <td>0.120559</td>\n",
       "      <td>-0.011416</td>\n",
       "      <td>-0.076279</td>\n",
       "      <td>-0.087578</td>\n",
       "      <td>0.314908</td>\n",
       "      <td>1.000000</td>\n",
       "      <td>-0.415093</td>\n",
       "      <td>-0.004254</td>\n",
       "    </tr>\n",
       "    <tr>\n",
       "      <th>bedrooms_per_room</th>\n",
       "      <td>0.096569</td>\n",
       "      <td>-0.120240</td>\n",
       "      <td>0.132410</td>\n",
       "      <td>-0.184905</td>\n",
       "      <td>0.091632</td>\n",
       "      <td>0.037859</td>\n",
       "      <td>0.070056</td>\n",
       "      <td>-0.613780</td>\n",
       "      <td>-0.415093</td>\n",
       "      <td>1.000000</td>\n",
       "      <td>0.003951</td>\n",
       "    </tr>\n",
       "    <tr>\n",
       "      <th>population_per_household</th>\n",
       "      <td>-0.003715</td>\n",
       "      <td>0.009735</td>\n",
       "      <td>0.018602</td>\n",
       "      <td>-0.026355</td>\n",
       "      <td>-0.029680</td>\n",
       "      <td>0.078892</td>\n",
       "      <td>-0.028938</td>\n",
       "      <td>0.027256</td>\n",
       "      <td>-0.004254</td>\n",
       "      <td>0.003951</td>\n",
       "      <td>1.000000</td>\n",
       "    </tr>\n",
       "  </tbody>\n",
       "</table>\n",
       "</div>"
      ],
      "text/plain": [
       "                          longitude  latitude  housing_median_age  \\\n",
       "longitude                  1.000000 -0.925565           -0.092360   \n",
       "latitude                  -0.925565  1.000000           -0.001490   \n",
       "housing_median_age        -0.092360 -0.001490            1.000000   \n",
       "total_rooms                0.037764 -0.031198           -0.361997   \n",
       "total_bedrooms             0.062496 -0.063200           -0.320940   \n",
       "population                 0.092848 -0.103765           -0.289843   \n",
       "households                 0.048963 -0.067358           -0.303136   \n",
       "median_income             -0.015035 -0.076069           -0.118928   \n",
       "rooms_per_household       -0.029271  0.113063           -0.154011   \n",
       "bedrooms_per_room          0.096569 -0.120240            0.132410   \n",
       "population_per_household  -0.003715  0.009735            0.018602   \n",
       "\n",
       "                          total_rooms  total_bedrooms  population  households  \\\n",
       "longitude                    0.037764        0.062496    0.092848    0.048963   \n",
       "latitude                    -0.031198       -0.063200   -0.103765   -0.067358   \n",
       "housing_median_age          -0.361997       -0.320940   -0.289843   -0.303136   \n",
       "total_rooms                  1.000000        0.928460    0.854559    0.920656   \n",
       "total_bedrooms               0.928460        1.000000    0.873352    0.980713   \n",
       "population                   0.854559        0.873352    1.000000    0.902034   \n",
       "households                   0.920656        0.980713    0.902034    1.000000   \n",
       "median_income                0.195391       -0.013463    0.002885    0.009821   \n",
       "rooms_per_household          0.120559       -0.011416   -0.076279   -0.087578   \n",
       "bedrooms_per_room           -0.184905        0.091632    0.037859    0.070056   \n",
       "population_per_household    -0.026355       -0.029680    0.078892   -0.028938   \n",
       "\n",
       "                          median_income  rooms_per_household  \\\n",
       "longitude                     -0.015035            -0.029271   \n",
       "latitude                      -0.076069             0.113063   \n",
       "housing_median_age            -0.118928            -0.154011   \n",
       "total_rooms                    0.195391             0.120559   \n",
       "total_bedrooms                -0.013463            -0.011416   \n",
       "population                     0.002885            -0.076279   \n",
       "households                     0.009821            -0.087578   \n",
       "median_income                  1.000000             0.314908   \n",
       "rooms_per_household            0.314908             1.000000   \n",
       "bedrooms_per_room             -0.613780            -0.415093   \n",
       "population_per_household       0.027256            -0.004254   \n",
       "\n",
       "                          bedrooms_per_room  population_per_household  \n",
       "longitude                          0.096569                 -0.003715  \n",
       "latitude                          -0.120240                  0.009735  \n",
       "housing_median_age                 0.132410                  0.018602  \n",
       "total_rooms                       -0.184905                 -0.026355  \n",
       "total_bedrooms                     0.091632                 -0.029680  \n",
       "population                         0.037859                  0.078892  \n",
       "households                         0.070056                 -0.028938  \n",
       "median_income                     -0.613780                  0.027256  \n",
       "rooms_per_household               -0.415093                 -0.004254  \n",
       "bedrooms_per_room                  1.000000                  0.003951  \n",
       "population_per_household           0.003951                  1.000000  "
      ]
     },
     "execution_count": 121,
     "metadata": {},
     "output_type": "execute_result"
    }
   ],
   "source": [
    "#create a correlation matrix for the numerical features of the train dataset\n",
    "corr_matrix = X_train.corr()\n",
    "corr_matrix"
   ]
  },
  {
   "cell_type": "code",
   "execution_count": 122,
   "metadata": {},
   "outputs": [
    {
     "data": {
      "text/plain": [
       "longitude                 longitude                   1.000000\n",
       "latitude                  latitude                    1.000000\n",
       "bedrooms_per_room         bedrooms_per_room           1.000000\n",
       "rooms_per_household       rooms_per_household         1.000000\n",
       "median_income             median_income               1.000000\n",
       "households                households                  1.000000\n",
       "total_bedrooms            total_bedrooms              1.000000\n",
       "total_rooms               total_rooms                 1.000000\n",
       "housing_median_age        housing_median_age          1.000000\n",
       "population                population                  1.000000\n",
       "population_per_household  population_per_household    1.000000\n",
       "total_bedrooms            households                  0.980713\n",
       "households                total_bedrooms              0.980713\n",
       "total_bedrooms            total_rooms                 0.928460\n",
       "total_rooms               total_bedrooms              0.928460\n",
       "dtype: float64"
      ]
     },
     "execution_count": 122,
     "metadata": {},
     "output_type": "execute_result"
    }
   ],
   "source": [
    "corr_matrix.unstack().sort_values(ascending = False).head(15)"
   ]
  },
  {
   "cell_type": "markdown",
   "metadata": {},
   "source": [
    "__Make median_house_value binary__\n",
    ">* We need to turn the median_house_value variable from numeric into binary.\n",
    ">* Let's create a variable above_average which is 1 if the median_house_value is above its mean value and 0 otherwise."
   ]
  },
  {
   "cell_type": "code",
   "execution_count": 123,
   "metadata": {},
   "outputs": [
    {
     "data": {
      "text/plain": [
       "array([0, 0, 1, ..., 1, 0, 0], dtype=int64)"
      ]
     },
     "execution_count": 123,
     "metadata": {},
     "output_type": "execute_result"
    }
   ],
   "source": [
    "#calculate the mean\n",
    "average = df_housing.median_house_value.mean()\n",
    "x = lambda x: 1 if x > average else 0\n",
    "y_train = y_train.apply(x).values\n",
    "y_val = y_val.apply(x).values\n",
    "y_test = y_test.apply(x).values\n",
    "y_val"
   ]
  },
  {
   "cell_type": "markdown",
   "metadata": {},
   "source": [
    "__Question 3:__\n",
    ">* Calculate the mutual information score with the (binarized) price for the categorical variable that we have. Use the training set only.\n",
    ">* What is the value of mutual information?\n",
    ">* Round it to 2 decimal digits using round(score, 2)"
   ]
  },
  {
   "cell_type": "code",
   "execution_count": 124,
   "metadata": {},
   "outputs": [
    {
     "data": {
      "text/plain": [
       "0.1"
      ]
     },
     "execution_count": 124,
     "metadata": {},
     "output_type": "execute_result"
    }
   ],
   "source": [
    "#calculate the mutual information score\n",
    "mi_score = mutual_info_score(train_set.ocean_proximity, y_train)\n",
    "round(mi_score, 2)"
   ]
  },
  {
   "cell_type": "markdown",
   "metadata": {},
   "source": [
    "__Question 4:__\n",
    ">* Now let's train a logistic regression\n",
    ">* Remember that we have one categorical variable ocean_proximity in the data. Include it using one-hot encoding.\n",
    ">* Fit the model on the training dataset.\n",
    ">* To make sure the results are reproducible across different versions of Scikit-Learn, fit the model with these parameters:\n",
    "model = LogisticRegression(solver=\"liblinear\", C=1.0, max_iter=1000, random_state=42)\n",
    ">* Calculate the accuracy on the validation dataset and round it to 2 decimal digits."
   ]
  },
  {
   "cell_type": "code",
   "execution_count": 125,
   "metadata": {},
   "outputs": [
    {
     "data": {
      "text/plain": [
       "array([[1.64693773e-01, 3.05000000e+02, 3.40000000e+01, ...,\n",
       "        6.37049180e+00, 3.20000000e+02, 1.94300000e+03],\n",
       "       [2.07920792e-01, 3.90000000e+01, 4.40000000e+01, ...,\n",
       "        5.17948718e+00, 4.20000000e+01, 2.02000000e+02],\n",
       "       [2.12471874e-01, 6.08000000e+02, 2.90000000e+01, ...,\n",
       "        5.11677632e+00, 6.61000000e+02, 3.11100000e+03],\n",
       "       ...,\n",
       "       [1.64333852e-01, 3.16000000e+02, 1.50000000e+01, ...,\n",
       "        6.10443038e+00, 3.17000000e+02, 1.92900000e+03],\n",
       "       [1.49213075e-01, 4.88000000e+02, 2.50000000e+01, ...,\n",
       "        6.77049180e+00, 4.93000000e+02, 3.30400000e+03],\n",
       "       [2.36879433e-01, 1.49000000e+02, 4.60000000e+01, ...,\n",
       "        4.73154362e+00, 1.67000000e+02, 7.05000000e+02]])"
      ]
     },
     "execution_count": 125,
     "metadata": {},
     "output_type": "execute_result"
    }
   ],
   "source": [
    "train_dict = X_train.to_dict(orient = 'records')\n",
    "dv = DictVectorizer(sparse = False)\n",
    "X_train_ = dv.fit_transform(train_dict)\n",
    "X_train_"
   ]
  },
  {
   "cell_type": "code",
   "execution_count": 126,
   "metadata": {},
   "outputs": [
    {
     "data": {
      "text/plain": [
       "array([[0.00000000e+00, 3.59000000e+02, 2.50000000e+01, ...,\n",
       "        4.19220056e+00, 0.00000000e+00, 1.50500000e+03],\n",
       "       [0.00000000e+00, 5.84000000e+02, 3.00000000e+01, ...,\n",
       "        5.03938356e+00, 0.00000000e+00, 2.94300000e+03],\n",
       "       [0.00000000e+00, 9.63000000e+02, 5.20000000e+01, ...,\n",
       "        3.97715472e+00, 0.00000000e+00, 3.83000000e+03],\n",
       "       ...,\n",
       "       [1.30868402e-01, 5.68000000e+02, 2.50000000e+01, ...,\n",
       "        7.23767606e+00, 5.38000000e+02, 4.11100000e+03],\n",
       "       [1.85879537e-01, 4.74000000e+02, 3.60000000e+01, ...,\n",
       "        5.28902954e+00, 4.66000000e+02, 2.50700000e+03],\n",
       "       [2.59093453e-01, 4.48000000e+02, 1.70000000e+01, ...,\n",
       "        3.98883929e+00, 4.63000000e+02, 1.78700000e+03]])"
      ]
     },
     "execution_count": 126,
     "metadata": {},
     "output_type": "execute_result"
    }
   ],
   "source": [
    "#vectorize and fit the validation set\n",
    "val_dict = X_val.to_dict(orient = 'records')\n",
    "X_validate = dv.transform(val_dict)\n",
    "X_validate"
   ]
  },
  {
   "cell_type": "code",
   "execution_count": 127,
   "metadata": {},
   "outputs": [
    {
     "data": {
      "text/html": [
       "<style>#sk-container-id-5 {color: black;background-color: white;}#sk-container-id-5 pre{padding: 0;}#sk-container-id-5 div.sk-toggleable {background-color: white;}#sk-container-id-5 label.sk-toggleable__label {cursor: pointer;display: block;width: 100%;margin-bottom: 0;padding: 0.3em;box-sizing: border-box;text-align: center;}#sk-container-id-5 label.sk-toggleable__label-arrow:before {content: \"▸\";float: left;margin-right: 0.25em;color: #696969;}#sk-container-id-5 label.sk-toggleable__label-arrow:hover:before {color: black;}#sk-container-id-5 div.sk-estimator:hover label.sk-toggleable__label-arrow:before {color: black;}#sk-container-id-5 div.sk-toggleable__content {max-height: 0;max-width: 0;overflow: hidden;text-align: left;background-color: #f0f8ff;}#sk-container-id-5 div.sk-toggleable__content pre {margin: 0.2em;color: black;border-radius: 0.25em;background-color: #f0f8ff;}#sk-container-id-5 input.sk-toggleable__control:checked~div.sk-toggleable__content {max-height: 200px;max-width: 100%;overflow: auto;}#sk-container-id-5 input.sk-toggleable__control:checked~label.sk-toggleable__label-arrow:before {content: \"▾\";}#sk-container-id-5 div.sk-estimator input.sk-toggleable__control:checked~label.sk-toggleable__label {background-color: #d4ebff;}#sk-container-id-5 div.sk-label input.sk-toggleable__control:checked~label.sk-toggleable__label {background-color: #d4ebff;}#sk-container-id-5 input.sk-hidden--visually {border: 0;clip: rect(1px 1px 1px 1px);clip: rect(1px, 1px, 1px, 1px);height: 1px;margin: -1px;overflow: hidden;padding: 0;position: absolute;width: 1px;}#sk-container-id-5 div.sk-estimator {font-family: monospace;background-color: #f0f8ff;border: 1px dotted black;border-radius: 0.25em;box-sizing: border-box;margin-bottom: 0.5em;}#sk-container-id-5 div.sk-estimator:hover {background-color: #d4ebff;}#sk-container-id-5 div.sk-parallel-item::after {content: \"\";width: 100%;border-bottom: 1px solid gray;flex-grow: 1;}#sk-container-id-5 div.sk-label:hover label.sk-toggleable__label {background-color: #d4ebff;}#sk-container-id-5 div.sk-serial::before {content: \"\";position: absolute;border-left: 1px solid gray;box-sizing: border-box;top: 0;bottom: 0;left: 50%;z-index: 0;}#sk-container-id-5 div.sk-serial {display: flex;flex-direction: column;align-items: center;background-color: white;padding-right: 0.2em;padding-left: 0.2em;position: relative;}#sk-container-id-5 div.sk-item {position: relative;z-index: 1;}#sk-container-id-5 div.sk-parallel {display: flex;align-items: stretch;justify-content: center;background-color: white;position: relative;}#sk-container-id-5 div.sk-item::before, #sk-container-id-5 div.sk-parallel-item::before {content: \"\";position: absolute;border-left: 1px solid gray;box-sizing: border-box;top: 0;bottom: 0;left: 50%;z-index: -1;}#sk-container-id-5 div.sk-parallel-item {display: flex;flex-direction: column;z-index: 1;position: relative;background-color: white;}#sk-container-id-5 div.sk-parallel-item:first-child::after {align-self: flex-end;width: 50%;}#sk-container-id-5 div.sk-parallel-item:last-child::after {align-self: flex-start;width: 50%;}#sk-container-id-5 div.sk-parallel-item:only-child::after {width: 0;}#sk-container-id-5 div.sk-dashed-wrapped {border: 1px dashed gray;margin: 0 0.4em 0.5em 0.4em;box-sizing: border-box;padding-bottom: 0.4em;background-color: white;}#sk-container-id-5 div.sk-label label {font-family: monospace;font-weight: bold;display: inline-block;line-height: 1.2em;}#sk-container-id-5 div.sk-label-container {text-align: center;}#sk-container-id-5 div.sk-container {/* jupyter's `normalize.less` sets `[hidden] { display: none; }` but bootstrap.min.css set `[hidden] { display: none !important; }` so we also need the `!important` here to be able to override the default hidden behavior on the sphinx rendered scikit-learn.org. See: https://github.com/scikit-learn/scikit-learn/issues/21755 */display: inline-block !important;position: relative;}#sk-container-id-5 div.sk-text-repr-fallback {display: none;}</style><div id=\"sk-container-id-5\" class=\"sk-top-container\"><div class=\"sk-text-repr-fallback\"><pre>LogisticRegression(max_iter=1000, solver=&#x27;liblinear&#x27;)</pre><b>In a Jupyter environment, please rerun this cell to show the HTML representation or trust the notebook. <br />On GitHub, the HTML representation is unable to render, please try loading this page with nbviewer.org.</b></div><div class=\"sk-container\" hidden><div class=\"sk-item\"><div class=\"sk-estimator sk-toggleable\"><input class=\"sk-toggleable__control sk-hidden--visually\" id=\"sk-estimator-id-5\" type=\"checkbox\" checked><label for=\"sk-estimator-id-5\" class=\"sk-toggleable__label sk-toggleable__label-arrow\">LogisticRegression</label><div class=\"sk-toggleable__content\"><pre>LogisticRegression(max_iter=1000, solver=&#x27;liblinear&#x27;)</pre></div></div></div></div></div>"
      ],
      "text/plain": [
       "LogisticRegression(max_iter=1000, solver='liblinear')"
      ]
     },
     "execution_count": 127,
     "metadata": {},
     "output_type": "execute_result"
    }
   ],
   "source": [
    "#train the LogisticRegression model\n",
    "model = LogisticRegression(solver = \"liblinear\", C = 1.0, max_iter = 1000)\n",
    "model.fit(X_train_, y_train)"
   ]
  },
  {
   "cell_type": "code",
   "execution_count": 128,
   "metadata": {},
   "outputs": [
    {
     "data": {
      "text/plain": [
       "0.84"
      ]
     },
     "execution_count": 128,
     "metadata": {},
     "output_type": "execute_result"
    }
   ],
   "source": [
    "#test the model on the validation set\n",
    "y_pred = model.predict(X_validate)\n",
    "#calculate the accuracy\n",
    "accuracy = round(accuracy_score(y_val, y_pred), 2)\n",
    "accuracy"
   ]
  },
  {
   "cell_type": "markdown",
   "metadata": {},
   "source": [
    "__Question 5:__\n",
    ">* Let's find the least useful feature using the feature elimination technique.\n",
    ">* Train a model with all these features (using the same parameters as in Q4).\n",
    ">* Now exclude each feature from this set and train a model without it. Record the accuracy for each model.\n",
    ">* For each feature, calculate the difference between the original accuracy and the accuracy without the feature.\n",
    ">* Which of the feature has the smallest difference?"
   ]
  },
  {
   "cell_type": "code",
   "execution_count": 129,
   "metadata": {},
   "outputs": [
    {
     "data": {
      "text/plain": [
       "['longitude',\n",
       " 'latitude',\n",
       " 'housing_median_age',\n",
       " 'total_rooms',\n",
       " 'total_bedrooms',\n",
       " 'population',\n",
       " 'households',\n",
       " 'median_income',\n",
       " 'ocean_proximity',\n",
       " 'rooms_per_household',\n",
       " 'bedrooms_per_room',\n",
       " 'population_per_household']"
      ]
     },
     "execution_count": 129,
     "metadata": {},
     "output_type": "execute_result"
    }
   ],
   "source": [
    "features = list(X_train.columns)\n",
    "features"
   ]
  },
  {
   "cell_type": "code",
   "execution_count": 130,
   "metadata": {},
   "outputs": [
    {
     "name": "stdout",
     "output_type": "stream",
     "text": [
      "longitude, Accuracy: 0.8275, Diff: 0.0125\n",
      "latitude, Accuracy: 0.8307, Diff: 0.0093\n",
      "housing_median_age, Accuracy: 0.8253, Diff: 0.0147\n",
      "total_rooms, Accuracy: 0.8348, Diff: 0.0052\n",
      "total_bedrooms, Accuracy: 0.8324, Diff: 0.0076\n",
      "population, Accuracy: 0.8147, Diff: 0.0253\n",
      "households, Accuracy: 0.8285, Diff: 0.0115\n",
      "median_income, Accuracy: 0.7730, Diff: 0.0670\n",
      "ocean_proximity, Accuracy: 0.8164, Diff: 0.0236\n",
      "rooms_per_household, Accuracy: 0.8348, Diff: 0.0052\n",
      "bedrooms_per_room, Accuracy: 0.8343, Diff: 0.0057\n",
      "population_per_household, Accuracy: 0.8345, Diff: 0.0055\n"
     ]
    }
   ],
   "source": [
    "for feature in features:\n",
    "    labels = features.copy()\n",
    "    labels.remove(feature)\n",
    "\n",
    "    train_dict = X_train[labels].to_dict(orient = 'records')\n",
    "    dv = DictVectorizer(sparse = False)\n",
    "    X_train_ = dv.fit_transform(train_dict)\n",
    "\n",
    "    val_dict = X_val[labels].to_dict(orient = 'records')\n",
    "    X_validate = dv.transform(val_dict)\n",
    "\n",
    "    model = LogisticRegression(solver = \"liblinear\", C = 1.0, max_iter = 1000)\n",
    "    model.fit(X_train_, y_train)\n",
    "\n",
    "    y_pred = model.predict(X_validate)\n",
    "\n",
    "    score = accuracy_score(y_val, y_pred)\n",
    "    print(f'{feature}, Accuracy: {(score):.4f}, Diff: {(accuracy - score):.4f}')"
   ]
  },
  {
   "cell_type": "markdown",
   "metadata": {},
   "source": [
    "__Question 6:__\n",
    ">* For this question, we'll see how to use a linear regression model from Scikit-Learn\n",
    ">* We'll need to use the original column 'median_house_value'. Apply the logarithmic transformation to this column.\n",
    ">* Fit the Ridge regression model (model = Ridge(alpha=a, solver=\"sag\", random_state=42)) on the training data.\n",
    ">* This model has a parameter alpha. Let's try the following values: [0, 0.01, 0.1, 1, 10]\n",
    ">* Which of these alphas leads to the best RMSE on the validation set? Round your RMSE scores to 3 decimal digits"
   ]
  },
  {
   "cell_type": "code",
   "execution_count": 131,
   "metadata": {},
   "outputs": [
    {
     "data": {
      "text/plain": [
       "array([[1.64693773e-01, 3.05000000e+02, 3.40000000e+01, ...,\n",
       "        6.37049180e+00, 3.20000000e+02, 1.94300000e+03],\n",
       "       [2.07920792e-01, 3.90000000e+01, 4.40000000e+01, ...,\n",
       "        5.17948718e+00, 4.20000000e+01, 2.02000000e+02],\n",
       "       [2.12471874e-01, 6.08000000e+02, 2.90000000e+01, ...,\n",
       "        5.11677632e+00, 6.61000000e+02, 3.11100000e+03],\n",
       "       ...,\n",
       "       [1.64333852e-01, 3.16000000e+02, 1.50000000e+01, ...,\n",
       "        6.10443038e+00, 3.17000000e+02, 1.92900000e+03],\n",
       "       [1.49213075e-01, 4.88000000e+02, 2.50000000e+01, ...,\n",
       "        6.77049180e+00, 4.93000000e+02, 3.30400000e+03],\n",
       "       [2.36879433e-01, 1.49000000e+02, 4.60000000e+01, ...,\n",
       "        4.73154362e+00, 1.67000000e+02, 7.05000000e+02]])"
      ]
     },
     "execution_count": 131,
     "metadata": {},
     "output_type": "execute_result"
    }
   ],
   "source": [
    "train_dict = X_train.to_dict(orient = 'records')\n",
    "dv = DictVectorizer(sparse = False)\n",
    "X_train_ = dv.fit_transform(train_dict)\n",
    "X_train_"
   ]
  },
  {
   "cell_type": "code",
   "execution_count": 132,
   "metadata": {},
   "outputs": [
    {
     "data": {
      "text/plain": [
       "array([[0.00000000e+00, 3.59000000e+02, 2.50000000e+01, ...,\n",
       "        4.19220056e+00, 0.00000000e+00, 1.50500000e+03],\n",
       "       [0.00000000e+00, 5.84000000e+02, 3.00000000e+01, ...,\n",
       "        5.03938356e+00, 0.00000000e+00, 2.94300000e+03],\n",
       "       [0.00000000e+00, 9.63000000e+02, 5.20000000e+01, ...,\n",
       "        3.97715472e+00, 0.00000000e+00, 3.83000000e+03],\n",
       "       ...,\n",
       "       [1.30868402e-01, 5.68000000e+02, 2.50000000e+01, ...,\n",
       "        7.23767606e+00, 5.38000000e+02, 4.11100000e+03],\n",
       "       [1.85879537e-01, 4.74000000e+02, 3.60000000e+01, ...,\n",
       "        5.28902954e+00, 4.66000000e+02, 2.50700000e+03],\n",
       "       [2.59093453e-01, 4.48000000e+02, 1.70000000e+01, ...,\n",
       "        3.98883929e+00, 4.63000000e+02, 1.78700000e+03]])"
      ]
     },
     "execution_count": 132,
     "metadata": {},
     "output_type": "execute_result"
    }
   ],
   "source": [
    "val_dict = X_val.to_dict(orient = 'records')\n",
    "X_validate = dv.transform(val_dict)\n",
    "X_validate"
   ]
  },
  {
   "cell_type": "code",
   "execution_count": 133,
   "metadata": {},
   "outputs": [],
   "source": [
    "y_train = np.log1p(train_set.median_house_value.values)\n",
    "y_val = np.log1p(val_set.median_house_value.values)\n",
    "y_test = np.log1p(test_set.median_house_value.values)"
   ]
  },
  {
   "cell_type": "code",
   "execution_count": 134,
   "metadata": {},
   "outputs": [
    {
     "name": "stdout",
     "output_type": "stream",
     "text": [
      "alpha: 0, RMSE: 0.568\n",
      "alpha: 0.01, RMSE: 0.568\n",
      "alpha: 0.1, RMSE: 0.568\n",
      "alpha: 1, RMSE: 0.568\n",
      "alpha: 10, RMSE: 0.568\n"
     ]
    }
   ],
   "source": [
    "alpha_values = [0, 0.01, 0.1, 1, 10]\n",
    "\n",
    "for a in alpha_values:\n",
    "    model = Ridge(alpha = a, solver = \"sag\")\n",
    "    model.fit(X_train_, y_train)\n",
    "    \n",
    "    y_pred = model.predict(X_validate)\n",
    "    \n",
    "    score = np.sqrt(mean_squared_error(y_val, y_pred))\n",
    "    \n",
    "    print(f'alpha: {a}, RMSE: {(score):.3f}')\n"
   ]
  }
 ],
 "metadata": {
  "kernelspec": {
   "display_name": "Python 3.8.13 ('base')",
   "language": "python",
   "name": "python3"
  },
  "language_info": {
   "codemirror_mode": {
    "name": "ipython",
    "version": 3
   },
   "file_extension": ".py",
   "mimetype": "text/x-python",
   "name": "python",
   "nbconvert_exporter": "python",
   "pygments_lexer": "ipython3",
   "version": "3.8.13"
  },
  "orig_nbformat": 4,
  "vscode": {
   "interpreter": {
    "hash": "12c00552a63d388a370871ba345989f2292569bc81069ca721cc90b933e1f662"
   }
  }
 },
 "nbformat": 4,
 "nbformat_minor": 2
}
